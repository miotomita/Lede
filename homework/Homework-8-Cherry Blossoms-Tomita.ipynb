{
 "cells": [
  {
   "cell_type": "markdown",
   "metadata": {},
   "source": [
    "<li>Name: Mio Tomita</li>\n",
    "<li>Submission Date: June 28, 2022</li>"
   ]
  },
  {
   "cell_type": "markdown",
   "metadata": {},
   "source": [
    "# Cherry Blossoms!\n",
    "\n",
    "If we travel back in time, [cherry blossoms](https://en.wikipedia.org/wiki/Cherry_blossom) were once in full bloom! We don't live in Japan or DC, but in non-COVID times we also have the [Brooklyn Botanic Garden's annual festival](https://www.bbg.org/visit/event/sakura_matsuri_2020).\n",
    "\n",
    "We'll have to make up for it with data-driven cherry blossoms instead. Once upon a time [Data is Plural](https://tinyletter.com/data-is-plural) linked to [a dataset](http://atmenv.envi.osakafu-u.ac.jp/aono/kyophenotemp4/) about when the cherry trees blossom each year. It's completely out of date, but it's quirky in a real nice way so we're sticking with it.\n",
    "\n",
    "## 0. Do all of your importing/setup stuff"
   ]
  },
  {
   "cell_type": "code",
   "execution_count": 1,
   "metadata": {},
   "outputs": [],
   "source": [
    "import pandas as pd\n",
    "from datetime import datetime, date"
   ]
  },
  {
   "cell_type": "code",
   "execution_count": 2,
   "metadata": {},
   "outputs": [],
   "source": [
    "import matplotlib.pyplot as plt\n",
    "plt.style.use(\"fivethirtyeight\")\n",
    "\n",
    "from matplotlib.dates import DateFormatter\n",
    "import matplotlib.dates as mdates"
   ]
  },
  {
   "cell_type": "markdown",
   "metadata": {},
   "source": [
    "## 1. Read in the file using pandas, and look at the first five rows\n",
    "\n",
    "* *Tip: You will probably need to pip install something to make this Excel file work!*"
   ]
  },
  {
   "cell_type": "code",
   "execution_count": 3,
   "metadata": {},
   "outputs": [],
   "source": [
    "#!pip install xlrd"
   ]
  },
  {
   "cell_type": "code",
   "execution_count": 4,
   "metadata": {},
   "outputs": [],
   "source": [
    "url = 'http://atmenv.envi.osakafu-u.ac.jp/omu-content/uploads/sites/1215/2015/10/KyotoFullFlower7.xls'"
   ]
  },
  {
   "cell_type": "code",
   "execution_count": 5,
   "metadata": {},
   "outputs": [],
   "source": [
    "df = pd.read_excel(url)"
   ]
  },
  {
   "cell_type": "code",
   "execution_count": 6,
   "metadata": {},
   "outputs": [
    {
     "data": {
      "text/html": [
       "<div>\n",
       "<style scoped>\n",
       "    .dataframe tbody tr th:only-of-type {\n",
       "        vertical-align: middle;\n",
       "    }\n",
       "\n",
       "    .dataframe tbody tr th {\n",
       "        vertical-align: top;\n",
       "    }\n",
       "\n",
       "    .dataframe thead th {\n",
       "        text-align: right;\n",
       "    }\n",
       "</style>\n",
       "<table border=\"1\" class=\"dataframe\">\n",
       "  <thead>\n",
       "    <tr style=\"text-align: right;\">\n",
       "      <th></th>\n",
       "      <th>Full-flowering dates of Japanese cherry (Prunus jamasakura) at Kyoto, Japan. (Latest version, Jun. 12, 2012)</th>\n",
       "      <th>Unnamed: 1</th>\n",
       "      <th>Unnamed: 2</th>\n",
       "      <th>Unnamed: 3</th>\n",
       "      <th>Unnamed: 4</th>\n",
       "      <th>Unnamed: 5</th>\n",
       "    </tr>\n",
       "  </thead>\n",
       "  <tbody>\n",
       "    <tr>\n",
       "      <th>0</th>\n",
       "      <td>This phenological data was acquired by followi...</td>\n",
       "      <td>NaN</td>\n",
       "      <td>NaN</td>\n",
       "      <td>NaN</td>\n",
       "      <td>NaN</td>\n",
       "      <td>NaN</td>\n",
       "    </tr>\n",
       "    <tr>\n",
       "      <th>1</th>\n",
       "      <td>NaN</td>\n",
       "      <td>NaN</td>\n",
       "      <td>NaN</td>\n",
       "      <td>NaN</td>\n",
       "      <td>NaN</td>\n",
       "      <td>NaN</td>\n",
       "    </tr>\n",
       "    <tr>\n",
       "      <th>2</th>\n",
       "      <td>Column A; A.D.</td>\n",
       "      <td>NaN</td>\n",
       "      <td>NaN</td>\n",
       "      <td>NaN</td>\n",
       "      <td>NaN</td>\n",
       "      <td>NaN</td>\n",
       "    </tr>\n",
       "    <tr>\n",
       "      <th>3</th>\n",
       "      <td>Column B; Full-flowering date (day of year).</td>\n",
       "      <td>NaN</td>\n",
       "      <td>NaN</td>\n",
       "      <td>NaN</td>\n",
       "      <td>NaN</td>\n",
       "      <td>NaN</td>\n",
       "    </tr>\n",
       "    <tr>\n",
       "      <th>4</th>\n",
       "      <td>Column C; Full-flowering date (calender date, ...</td>\n",
       "      <td>NaN</td>\n",
       "      <td>NaN</td>\n",
       "      <td>NaN</td>\n",
       "      <td>NaN</td>\n",
       "      <td>NaN</td>\n",
       "    </tr>\n",
       "  </tbody>\n",
       "</table>\n",
       "</div>"
      ],
      "text/plain": [
       "  Full-flowering dates of Japanese cherry (Prunus jamasakura) at Kyoto, Japan. (Latest version, Jun. 12, 2012)  \\\n",
       "0  This phenological data was acquired by followi...                                                             \n",
       "1                                                NaN                                                             \n",
       "2                                     Column A; A.D.                                                             \n",
       "3       Column B; Full-flowering date (day of year).                                                             \n",
       "4  Column C; Full-flowering date (calender date, ...                                                             \n",
       "\n",
       "  Unnamed: 1 Unnamed: 2 Unnamed: 3 Unnamed: 4 Unnamed: 5  \n",
       "0        NaN        NaN        NaN        NaN        NaN  \n",
       "1        NaN        NaN        NaN        NaN        NaN  \n",
       "2        NaN        NaN        NaN        NaN        NaN  \n",
       "3        NaN        NaN        NaN        NaN        NaN  \n",
       "4        NaN        NaN        NaN        NaN        NaN  "
      ]
     },
     "execution_count": 6,
     "metadata": {},
     "output_type": "execute_result"
    }
   ],
   "source": [
    "df.head(5)"
   ]
  },
  {
   "cell_type": "markdown",
   "metadata": {},
   "source": [
    "## 2. Read in the file using pandas CORRECTLY, and look at the first five rows\n",
    "\n",
    "Hrm, how do your column names look? Read the file in again but this time add **a parameter to make sure your columns look right**. How can you tell pandas to skip rows?\n",
    "\n",
    "**TIP: The first year should be 801 AD, and it should not have any dates or anything.**"
   ]
  },
  {
   "cell_type": "code",
   "execution_count": 7,
   "metadata": {},
   "outputs": [],
   "source": [
    "#skip rows\n",
    "df = pd.read_excel(url, skiprows=25)"
   ]
  },
  {
   "cell_type": "markdown",
   "metadata": {},
   "source": [
    "## 3. Look at the final five rows of the data"
   ]
  },
  {
   "cell_type": "code",
   "execution_count": 8,
   "metadata": {},
   "outputs": [
    {
     "data": {
      "text/html": [
       "<div>\n",
       "<style scoped>\n",
       "    .dataframe tbody tr th:only-of-type {\n",
       "        vertical-align: middle;\n",
       "    }\n",
       "\n",
       "    .dataframe tbody tr th {\n",
       "        vertical-align: top;\n",
       "    }\n",
       "\n",
       "    .dataframe thead th {\n",
       "        text-align: right;\n",
       "    }\n",
       "</style>\n",
       "<table border=\"1\" class=\"dataframe\">\n",
       "  <thead>\n",
       "    <tr style=\"text-align: right;\">\n",
       "      <th></th>\n",
       "      <th>AD</th>\n",
       "      <th>Full-flowering date (DOY)</th>\n",
       "      <th>Full-flowering date</th>\n",
       "      <th>Source code</th>\n",
       "      <th>Data type code</th>\n",
       "      <th>Reference Name</th>\n",
       "    </tr>\n",
       "  </thead>\n",
       "  <tbody>\n",
       "    <tr>\n",
       "      <th>0</th>\n",
       "      <td>801</td>\n",
       "      <td>NaN</td>\n",
       "      <td>NaN</td>\n",
       "      <td>NaN</td>\n",
       "      <td>NaN</td>\n",
       "      <td>-</td>\n",
       "    </tr>\n",
       "    <tr>\n",
       "      <th>1</th>\n",
       "      <td>802</td>\n",
       "      <td>NaN</td>\n",
       "      <td>NaN</td>\n",
       "      <td>NaN</td>\n",
       "      <td>NaN</td>\n",
       "      <td>-</td>\n",
       "    </tr>\n",
       "    <tr>\n",
       "      <th>2</th>\n",
       "      <td>803</td>\n",
       "      <td>NaN</td>\n",
       "      <td>NaN</td>\n",
       "      <td>NaN</td>\n",
       "      <td>NaN</td>\n",
       "      <td>-</td>\n",
       "    </tr>\n",
       "    <tr>\n",
       "      <th>3</th>\n",
       "      <td>804</td>\n",
       "      <td>NaN</td>\n",
       "      <td>NaN</td>\n",
       "      <td>NaN</td>\n",
       "      <td>NaN</td>\n",
       "      <td>-</td>\n",
       "    </tr>\n",
       "    <tr>\n",
       "      <th>4</th>\n",
       "      <td>805</td>\n",
       "      <td>NaN</td>\n",
       "      <td>NaN</td>\n",
       "      <td>NaN</td>\n",
       "      <td>NaN</td>\n",
       "      <td>-</td>\n",
       "    </tr>\n",
       "  </tbody>\n",
       "</table>\n",
       "</div>"
      ],
      "text/plain": [
       "    AD  Full-flowering date (DOY)  Full-flowering date  Source code  \\\n",
       "0  801                        NaN                  NaN          NaN   \n",
       "1  802                        NaN                  NaN          NaN   \n",
       "2  803                        NaN                  NaN          NaN   \n",
       "3  804                        NaN                  NaN          NaN   \n",
       "4  805                        NaN                  NaN          NaN   \n",
       "\n",
       "   Data type code Reference Name  \n",
       "0             NaN              -  \n",
       "1             NaN              -  \n",
       "2             NaN              -  \n",
       "3             NaN              -  \n",
       "4             NaN              -  "
      ]
     },
     "execution_count": 8,
     "metadata": {},
     "output_type": "execute_result"
    }
   ],
   "source": [
    "df.head(5)"
   ]
  },
  {
   "cell_type": "markdown",
   "metadata": {},
   "source": [
    "## 4. Add some NaN values"
   ]
  },
  {
   "cell_type": "markdown",
   "metadata": {},
   "source": [
    "It looks like you should have NaN/missing values in the beginning of the dataset under \"Reference name.\" Read in the file *one more time*, this time making sure all of those missing reference names actually show up as `NaN` instead of `-`.\n",
    "\n",
    "* *Tip: it's another open with reading in the file!*"
   ]
  },
  {
   "cell_type": "code",
   "execution_count": 9,
   "metadata": {},
   "outputs": [],
   "source": [
    "df = pd.read_excel(url, skiprows=25, na_values='-', dtype={'Full-flowering date':str})"
   ]
  },
  {
   "cell_type": "code",
   "execution_count": 10,
   "metadata": {},
   "outputs": [],
   "source": [
    "df.columns = df.columns.str.lower().str.replace('[(|)|-]','', regex=True).str.replace(' ','_')"
   ]
  },
  {
   "cell_type": "markdown",
   "metadata": {},
   "source": [
    "## 5. What reference is the most commonly used when figuring out cherry blossom flowering dates?\n",
    "\n",
    "If the first result is `\"-\"`, you need to redo the last question."
   ]
  },
  {
   "cell_type": "code",
   "execution_count": 11,
   "metadata": {},
   "outputs": [
    {
     "data": {
      "text/plain": [
       "NEWS-PAPER(ARASHIYAMA)        94\n",
       "SUGIURAKE-NIKKI               38\n",
       "MYOHOIN-HINAMIKI              32\n",
       "OYUDONONO-UENO-NIKKI          26\n",
       "OYUDONONO-UENO-NIKKI [EDA]    21\n",
       "Name: reference_name, dtype: int64"
      ]
     },
     "execution_count": 11,
     "metadata": {},
     "output_type": "execute_result"
    }
   ],
   "source": [
    "df.reference_name.value_counts().head(5)"
   ]
  },
  {
   "cell_type": "markdown",
   "metadata": {},
   "source": [
    "## 6. Filter the list to only include columns where the `Full-flowering date (DOY)` is not missing"
   ]
  },
  {
   "cell_type": "code",
   "execution_count": 12,
   "metadata": {},
   "outputs": [],
   "source": [
    "df = df[df.fullflowering_date_doy.notnull()]"
   ]
  },
  {
   "cell_type": "markdown",
   "metadata": {},
   "source": [
    "## 6.5 Confirm you now have 827 rows"
   ]
  },
  {
   "cell_type": "code",
   "execution_count": 13,
   "metadata": {},
   "outputs": [
    {
     "data": {
      "text/plain": [
       "(827, 6)"
      ]
     },
     "execution_count": 13,
     "metadata": {},
     "output_type": "execute_result"
    }
   ],
   "source": [
    "df[df.fullflowering_date_doy.notnull()].shape"
   ]
  },
  {
   "cell_type": "markdown",
   "metadata": {},
   "source": [
    "## 7. Make a histogram of the full-flowering date"
   ]
  },
  {
   "cell_type": "code",
   "execution_count": 14,
   "metadata": {},
   "outputs": [],
   "source": [
    "df['date_dt'] = pd.to_datetime(df.fullflowering_date,format='%m%d')"
   ]
  },
  {
   "cell_type": "code",
   "execution_count": 15,
   "metadata": {},
   "outputs": [
    {
     "data": {
      "image/png": "[encoded data removed]",
      "text/plain": [
       "<Figure size 432x288 with 1 Axes>"
      ]
     },
     "metadata": {
      "needs_background": "light"
     },
     "output_type": "display_data"
    }
   ],
   "source": [
    "ax = df.date_dt.hist(ec='k')\n",
    "\n",
    "#date format\n",
    "date_form = DateFormatter(\"%m/%d\")\n",
    "ax.xaxis.set_major_formatter(date_form)\n",
    "ax.xaxis.set_major_locator(mdates.WeekdayLocator(interval=1))\n",
    "\n",
    "plt.show()"
   ]
  },
  {
   "cell_type": "markdown",
   "metadata": {},
   "source": [
    "## 8. Make another histogram of the full-flowering date, but with 39 bins instead of 10"
   ]
  },
  {
   "cell_type": "code",
   "execution_count": 16,
   "metadata": {},
   "outputs": [
    {
     "data": {
      "image/png": "[encoded data removed]",
      "text/plain": [
       "<Figure size 432x288 with 1 Axes>"
      ]
     },
     "metadata": {
      "needs_background": "light"
     },
     "output_type": "display_data"
    }
   ],
   "source": [
    "ax = df.date_dt.dropna().sort_values().hist(bins=39, ec='k')\n",
    "\n",
    "#date format\n",
    "date_form = DateFormatter(\"%m/%d\")\n",
    "ax.xaxis.set_major_formatter(date_form)\n",
    "ax.xaxis.set_major_locator(mdates.WeekdayLocator(interval=1))\n",
    "\n",
    "plt.show()"
   ]
  },
  {
   "cell_type": "markdown",
   "metadata": {},
   "source": [
    "## 9. What's the average number of days it takes for the flowers to blossom? And how many records do we have?\n",
    "\n",
    "Answer these both with one line of code."
   ]
  },
  {
   "cell_type": "code",
   "execution_count": 17,
   "metadata": {},
   "outputs": [
    {
     "data": {
      "text/plain": [
       "count    827.000000\n",
       "mean     104.540508\n",
       "std        6.407036\n",
       "min       86.000000\n",
       "25%      100.000000\n",
       "50%      105.000000\n",
       "75%      109.000000\n",
       "max      124.000000\n",
       "Name: fullflowering_date_doy, dtype: float64"
      ]
     },
     "execution_count": 17,
     "metadata": {},
     "output_type": "execute_result"
    }
   ],
   "source": [
    "#average is 105 days\n",
    "#we have 827 records\n",
    "df.fullflowering_date_doy.describe()"
   ]
  },
  {
   "cell_type": "markdown",
   "metadata": {},
   "source": [
    "## 10. What's the average days into the year cherry flowers normally blossomed before 1900?\n",
    "\n"
   ]
  },
  {
   "cell_type": "code",
   "execution_count": 18,
   "metadata": {},
   "outputs": [
    {
     "data": {
      "text/plain": [
       "105.0"
      ]
     },
     "execution_count": 18,
     "metadata": {},
     "output_type": "execute_result"
    }
   ],
   "source": [
    "df[df.ad<1900].fullflowering_date_doy.median()"
   ]
  },
  {
   "cell_type": "markdown",
   "metadata": {},
   "source": [
    "## 11. How about after 1900?"
   ]
  },
  {
   "cell_type": "code",
   "execution_count": 19,
   "metadata": {},
   "outputs": [
    {
     "data": {
      "text/plain": [
       "99.0"
      ]
     },
     "execution_count": 19,
     "metadata": {},
     "output_type": "execute_result"
    }
   ],
   "source": [
    "df[df.ad>1900].fullflowering_date_doy.median()"
   ]
  },
  {
   "cell_type": "markdown",
   "metadata": {},
   "source": [
    "## 12. How many times was our data from a title in Japanese poetry?\n",
    "\n",
    "You'll need to read the documentation inside of the Excel file."
   ]
  },
  {
   "cell_type": "code",
   "execution_count": 20,
   "metadata": {},
   "outputs": [],
   "source": [
    "#TYPE : Data type, which shows priority for phenological data presition\n",
    "       #0 : data from modern times (full-bloom date since 1880s)\n",
    "       #1 : from diary description about full-bloom\n",
    "       #2 : from diary description about cherry blossom viewing party\n",
    "       #3 : from diary description about presents of cherry twigs from party participants\n",
    "       #4 : title in Japanese poety\n",
    "       #8 : estimated by full-flowering dates of wisteria\n",
    "       #9 : estimated by full-flowering dates of Japanese kerria"
   ]
  },
  {
   "cell_type": "code",
   "execution_count": 21,
   "metadata": {},
   "outputs": [
    {
     "data": {
      "text/plain": [
       "39"
      ]
     },
     "execution_count": 21,
     "metadata": {},
     "output_type": "execute_result"
    }
   ],
   "source": [
    "(df.data_type_code==4).sum()"
   ]
  },
  {
   "cell_type": "markdown",
   "metadata": {},
   "source": [
    "## 13. Display the rows where our data was from a title in Japanese poetry"
   ]
  },
  {
   "cell_type": "code",
   "execution_count": 22,
   "metadata": {},
   "outputs": [],
   "source": [
    "pd.options.display.max_rows = None"
   ]
  },
  {
   "cell_type": "code",
   "execution_count": 23,
   "metadata": {},
   "outputs": [
    {
     "data": {
      "text/html": [
       "<div>\n",
       "<style scoped>\n",
       "    .dataframe tbody tr th:only-of-type {\n",
       "        vertical-align: middle;\n",
       "    }\n",
       "\n",
       "    .dataframe tbody tr th {\n",
       "        vertical-align: top;\n",
       "    }\n",
       "\n",
       "    .dataframe thead th {\n",
       "        text-align: right;\n",
       "    }\n",
       "</style>\n",
       "<table border=\"1\" class=\"dataframe\">\n",
       "  <thead>\n",
       "    <tr style=\"text-align: right;\">\n",
       "      <th></th>\n",
       "      <th>ad</th>\n",
       "      <th>fullflowering_date_doy</th>\n",
       "      <th>fullflowering_date</th>\n",
       "      <th>source_code</th>\n",
       "      <th>data_type_code</th>\n",
       "      <th>reference_name</th>\n",
       "      <th>date_dt</th>\n",
       "    </tr>\n",
       "  </thead>\n",
       "  <tbody>\n",
       "    <tr>\n",
       "      <th>90</th>\n",
       "      <td>891</td>\n",
       "      <td>109.0</td>\n",
       "      <td>419</td>\n",
       "      <td>5.0</td>\n",
       "      <td>4.0</td>\n",
       "      <td>NIHONKIRYAKU</td>\n",
       "      <td>1900-04-19</td>\n",
       "    </tr>\n",
       "    <tr>\n",
       "      <th>94</th>\n",
       "      <td>895</td>\n",
       "      <td>104.0</td>\n",
       "      <td>414</td>\n",
       "      <td>5.0</td>\n",
       "      <td>4.0</td>\n",
       "      <td>NIHONKIRYAKU</td>\n",
       "      <td>1900-04-14</td>\n",
       "    </tr>\n",
       "    <tr>\n",
       "      <th>95</th>\n",
       "      <td>896</td>\n",
       "      <td>104.0</td>\n",
       "      <td>413</td>\n",
       "      <td>5.0</td>\n",
       "      <td>4.0</td>\n",
       "      <td>NIPPON-SANDAI-JITSUROKU</td>\n",
       "      <td>1900-04-13</td>\n",
       "    </tr>\n",
       "    <tr>\n",
       "      <th>122</th>\n",
       "      <td>923</td>\n",
       "      <td>104.0</td>\n",
       "      <td>414</td>\n",
       "      <td>5.0</td>\n",
       "      <td>4.0</td>\n",
       "      <td>ZOKU-KOKIN-WAKASHU</td>\n",
       "      <td>1900-04-14</td>\n",
       "    </tr>\n",
       "    <tr>\n",
       "      <th>154</th>\n",
       "      <td>955</td>\n",
       "      <td>89.0</td>\n",
       "      <td>330</td>\n",
       "      <td>5.0</td>\n",
       "      <td>4.0</td>\n",
       "      <td>SHUISHO</td>\n",
       "      <td>1900-03-30</td>\n",
       "    </tr>\n",
       "    <tr>\n",
       "      <th>168</th>\n",
       "      <td>969</td>\n",
       "      <td>98.0</td>\n",
       "      <td>408</td>\n",
       "      <td>5.0</td>\n",
       "      <td>4.0</td>\n",
       "      <td>NIHONKIRYAKU</td>\n",
       "      <td>1900-04-08</td>\n",
       "    </tr>\n",
       "    <tr>\n",
       "      <th>206</th>\n",
       "      <td>1007</td>\n",
       "      <td>106.0</td>\n",
       "      <td>416</td>\n",
       "      <td>5.0</td>\n",
       "      <td>4.0</td>\n",
       "      <td>MIDO-KAMPAKUKI</td>\n",
       "      <td>1900-04-16</td>\n",
       "    </tr>\n",
       "    <tr>\n",
       "      <th>232</th>\n",
       "      <td>1033</td>\n",
       "      <td>102.0</td>\n",
       "      <td>412</td>\n",
       "      <td>5.0</td>\n",
       "      <td>4.0</td>\n",
       "      <td>NIHONKIRYAKU</td>\n",
       "      <td>1900-04-12</td>\n",
       "    </tr>\n",
       "    <tr>\n",
       "      <th>235</th>\n",
       "      <td>1036</td>\n",
       "      <td>104.0</td>\n",
       "      <td>413</td>\n",
       "      <td>5.0</td>\n",
       "      <td>4.0</td>\n",
       "      <td>NIHONKIRYAKU</td>\n",
       "      <td>1900-04-13</td>\n",
       "    </tr>\n",
       "    <tr>\n",
       "      <th>259</th>\n",
       "      <td>1060</td>\n",
       "      <td>108.0</td>\n",
       "      <td>417</td>\n",
       "      <td>5.0</td>\n",
       "      <td>4.0</td>\n",
       "      <td>SHIN-SENZAI-WAKASHU</td>\n",
       "      <td>1900-04-17</td>\n",
       "    </tr>\n",
       "    <tr>\n",
       "      <th>260</th>\n",
       "      <td>1061</td>\n",
       "      <td>92.0</td>\n",
       "      <td>402</td>\n",
       "      <td>6.0</td>\n",
       "      <td>4.0</td>\n",
       "      <td>MOROZANE-SHU</td>\n",
       "      <td>1900-04-02</td>\n",
       "    </tr>\n",
       "    <tr>\n",
       "      <th>283</th>\n",
       "      <td>1084</td>\n",
       "      <td>120.0</td>\n",
       "      <td>429</td>\n",
       "      <td>5.0</td>\n",
       "      <td>4.0</td>\n",
       "      <td>ZOKU-GOSEN-WAKASHU</td>\n",
       "      <td>1900-04-29</td>\n",
       "    </tr>\n",
       "    <tr>\n",
       "      <th>294</th>\n",
       "      <td>1095</td>\n",
       "      <td>100.0</td>\n",
       "      <td>410</td>\n",
       "      <td>5.0</td>\n",
       "      <td>4.0</td>\n",
       "      <td>CHUYUKI</td>\n",
       "      <td>1900-04-10</td>\n",
       "    </tr>\n",
       "    <tr>\n",
       "      <th>381</th>\n",
       "      <td>1182</td>\n",
       "      <td>104.0</td>\n",
       "      <td>414</td>\n",
       "      <td>6.0</td>\n",
       "      <td>4.0</td>\n",
       "      <td>TSUKIMOUDE-WAKASHU(PART-3)</td>\n",
       "      <td>1900-04-14</td>\n",
       "    </tr>\n",
       "    <tr>\n",
       "      <th>389</th>\n",
       "      <td>1190</td>\n",
       "      <td>112.0</td>\n",
       "      <td>422</td>\n",
       "      <td>5.0</td>\n",
       "      <td>4.0</td>\n",
       "      <td>SHUGYOKU-SHU</td>\n",
       "      <td>1900-04-22</td>\n",
       "    </tr>\n",
       "    <tr>\n",
       "      <th>400</th>\n",
       "      <td>1201</td>\n",
       "      <td>96.0</td>\n",
       "      <td>406</td>\n",
       "      <td>5.0</td>\n",
       "      <td>4.0</td>\n",
       "      <td>INOKUMA-KAMPAKUKI</td>\n",
       "      <td>1900-04-06</td>\n",
       "    </tr>\n",
       "    <tr>\n",
       "      <th>415</th>\n",
       "      <td>1216</td>\n",
       "      <td>101.0</td>\n",
       "      <td>410</td>\n",
       "      <td>5.0</td>\n",
       "      <td>4.0</td>\n",
       "      <td>JUNTOKUIN-GYOSHU</td>\n",
       "      <td>1900-04-10</td>\n",
       "    </tr>\n",
       "    <tr>\n",
       "      <th>418</th>\n",
       "      <td>1219</td>\n",
       "      <td>101.0</td>\n",
       "      <td>411</td>\n",
       "      <td>5.0</td>\n",
       "      <td>4.0</td>\n",
       "      <td>JUNTOKUIN-GYOSHU</td>\n",
       "      <td>1900-04-11</td>\n",
       "    </tr>\n",
       "    <tr>\n",
       "      <th>420</th>\n",
       "      <td>1221</td>\n",
       "      <td>99.0</td>\n",
       "      <td>409</td>\n",
       "      <td>5.0</td>\n",
       "      <td>4.0</td>\n",
       "      <td>SHUI-GUSO</td>\n",
       "      <td>1900-04-09</td>\n",
       "    </tr>\n",
       "    <tr>\n",
       "      <th>422</th>\n",
       "      <td>1223</td>\n",
       "      <td>116.0</td>\n",
       "      <td>426</td>\n",
       "      <td>5.0</td>\n",
       "      <td>4.0</td>\n",
       "      <td>MITSUTSUNE-SHU</td>\n",
       "      <td>1900-04-26</td>\n",
       "    </tr>\n",
       "    <tr>\n",
       "      <th>435</th>\n",
       "      <td>1236</td>\n",
       "      <td>87.0</td>\n",
       "      <td>327</td>\n",
       "      <td>7.0</td>\n",
       "      <td>4.0</td>\n",
       "      <td>SHIIBA-WAKASHU</td>\n",
       "      <td>1900-03-27</td>\n",
       "    </tr>\n",
       "    <tr>\n",
       "      <th>464</th>\n",
       "      <td>1265</td>\n",
       "      <td>98.0</td>\n",
       "      <td>408</td>\n",
       "      <td>6.0</td>\n",
       "      <td>4.0</td>\n",
       "      <td>TAMEIE-SHU</td>\n",
       "      <td>1900-04-08</td>\n",
       "    </tr>\n",
       "    <tr>\n",
       "      <th>467</th>\n",
       "      <td>1268</td>\n",
       "      <td>103.0</td>\n",
       "      <td>412</td>\n",
       "      <td>6.0</td>\n",
       "      <td>4.0</td>\n",
       "      <td>TAMEIE-SHU</td>\n",
       "      <td>1900-04-12</td>\n",
       "    </tr>\n",
       "    <tr>\n",
       "      <th>468</th>\n",
       "      <td>1269</td>\n",
       "      <td>100.0</td>\n",
       "      <td>410</td>\n",
       "      <td>3.0</td>\n",
       "      <td>4.0</td>\n",
       "      <td>ZOKU-SHIGUSHO</td>\n",
       "      <td>1900-04-10</td>\n",
       "    </tr>\n",
       "    <tr>\n",
       "      <th>470</th>\n",
       "      <td>1271</td>\n",
       "      <td>100.0</td>\n",
       "      <td>410</td>\n",
       "      <td>5.0</td>\n",
       "      <td>4.0</td>\n",
       "      <td>DAINAGON-TAMEIE-SHU</td>\n",
       "      <td>1900-04-10</td>\n",
       "    </tr>\n",
       "    <tr>\n",
       "      <th>488</th>\n",
       "      <td>1289</td>\n",
       "      <td>107.0</td>\n",
       "      <td>417</td>\n",
       "      <td>3.0</td>\n",
       "      <td>4.0</td>\n",
       "      <td>NAKANOTSUKASA-NIKKI</td>\n",
       "      <td>1900-04-17</td>\n",
       "    </tr>\n",
       "    <tr>\n",
       "      <th>500</th>\n",
       "      <td>1301</td>\n",
       "      <td>95.0</td>\n",
       "      <td>405</td>\n",
       "      <td>4.0</td>\n",
       "      <td>4.0</td>\n",
       "      <td>SANEMI-KYOKI</td>\n",
       "      <td>1900-04-05</td>\n",
       "    </tr>\n",
       "    <tr>\n",
       "      <th>523</th>\n",
       "      <td>1324</td>\n",
       "      <td>98.0</td>\n",
       "      <td>407</td>\n",
       "      <td>5.0</td>\n",
       "      <td>4.0</td>\n",
       "      <td>HANAZONOTENNO-SHINKI</td>\n",
       "      <td>1900-04-07</td>\n",
       "    </tr>\n",
       "    <tr>\n",
       "      <th>529</th>\n",
       "      <td>1330</td>\n",
       "      <td>108.0</td>\n",
       "      <td>418</td>\n",
       "      <td>7.0</td>\n",
       "      <td>4.0</td>\n",
       "      <td>RINEI-WAKASHU</td>\n",
       "      <td>1900-04-18</td>\n",
       "    </tr>\n",
       "    <tr>\n",
       "      <th>646</th>\n",
       "      <td>1447</td>\n",
       "      <td>111.0</td>\n",
       "      <td>421</td>\n",
       "      <td>3.0</td>\n",
       "      <td>4.0</td>\n",
       "      <td>SOKONSHU</td>\n",
       "      <td>1900-04-21</td>\n",
       "    </tr>\n",
       "    <tr>\n",
       "      <th>652</th>\n",
       "      <td>1453</td>\n",
       "      <td>107.0</td>\n",
       "      <td>417</td>\n",
       "      <td>3.0</td>\n",
       "      <td>4.0</td>\n",
       "      <td>SOKONSHU</td>\n",
       "      <td>1900-04-17</td>\n",
       "    </tr>\n",
       "    <tr>\n",
       "      <th>653</th>\n",
       "      <td>1454</td>\n",
       "      <td>105.0</td>\n",
       "      <td>415</td>\n",
       "      <td>3.0</td>\n",
       "      <td>4.0</td>\n",
       "      <td>SOKONSHU</td>\n",
       "      <td>1900-04-15</td>\n",
       "    </tr>\n",
       "    <tr>\n",
       "      <th>673</th>\n",
       "      <td>1474</td>\n",
       "      <td>98.0</td>\n",
       "      <td>408</td>\n",
       "      <td>3.0</td>\n",
       "      <td>4.0</td>\n",
       "      <td>ENROKUCHOKASHU</td>\n",
       "      <td>1900-04-08</td>\n",
       "    </tr>\n",
       "    <tr>\n",
       "      <th>733</th>\n",
       "      <td>1534</td>\n",
       "      <td>108.0</td>\n",
       "      <td>418</td>\n",
       "      <td>3.0</td>\n",
       "      <td>4.0</td>\n",
       "      <td>GONARAIN-GYOSEI-BASSHO</td>\n",
       "      <td>1900-04-18</td>\n",
       "    </tr>\n",
       "    <tr>\n",
       "      <th>791</th>\n",
       "      <td>1592</td>\n",
       "      <td>98.0</td>\n",
       "      <td>407</td>\n",
       "      <td>4.0</td>\n",
       "      <td>4.0</td>\n",
       "      <td>TOKITSUNE-KYOKI</td>\n",
       "      <td>1900-04-07</td>\n",
       "    </tr>\n",
       "    <tr>\n",
       "      <th>839</th>\n",
       "      <td>1640</td>\n",
       "      <td>103.0</td>\n",
       "      <td>412</td>\n",
       "      <td>3.0</td>\n",
       "      <td>4.0</td>\n",
       "      <td>KYOHAKUSHU</td>\n",
       "      <td>1900-04-12</td>\n",
       "    </tr>\n",
       "    <tr>\n",
       "      <th>860</th>\n",
       "      <td>1661</td>\n",
       "      <td>93.0</td>\n",
       "      <td>403</td>\n",
       "      <td>7.0</td>\n",
       "      <td>4.0</td>\n",
       "      <td>BURUI-GENYO-WAKASHU</td>\n",
       "      <td>1900-04-03</td>\n",
       "    </tr>\n",
       "    <tr>\n",
       "      <th>1045</th>\n",
       "      <td>1846</td>\n",
       "      <td>98.0</td>\n",
       "      <td>408</td>\n",
       "      <td>4.0</td>\n",
       "      <td>4.0</td>\n",
       "      <td>TEIEN-EISO</td>\n",
       "      <td>1900-04-08</td>\n",
       "    </tr>\n",
       "    <tr>\n",
       "      <th>1062</th>\n",
       "      <td>1863</td>\n",
       "      <td>118.0</td>\n",
       "      <td>428</td>\n",
       "      <td>4.0</td>\n",
       "      <td>4.0</td>\n",
       "      <td>YATAKA-SHU</td>\n",
       "      <td>1900-04-28</td>\n",
       "    </tr>\n",
       "  </tbody>\n",
       "</table>\n",
       "</div>"
      ],
      "text/plain": [
       "        ad  fullflowering_date_doy fullflowering_date  source_code  \\\n",
       "90     891                   109.0                419          5.0   \n",
       "94     895                   104.0                414          5.0   \n",
       "95     896                   104.0                413          5.0   \n",
       "122    923                   104.0                414          5.0   \n",
       "154    955                    89.0                330          5.0   \n",
       "168    969                    98.0                408          5.0   \n",
       "206   1007                   106.0                416          5.0   \n",
       "232   1033                   102.0                412          5.0   \n",
       "235   1036                   104.0                413          5.0   \n",
       "259   1060                   108.0                417          5.0   \n",
       "260   1061                    92.0                402          6.0   \n",
       "283   1084                   120.0                429          5.0   \n",
       "294   1095                   100.0                410          5.0   \n",
       "381   1182                   104.0                414          6.0   \n",
       "389   1190                   112.0                422          5.0   \n",
       "400   1201                    96.0                406          5.0   \n",
       "415   1216                   101.0                410          5.0   \n",
       "418   1219                   101.0                411          5.0   \n",
       "420   1221                    99.0                409          5.0   \n",
       "422   1223                   116.0                426          5.0   \n",
       "435   1236                    87.0                327          7.0   \n",
       "464   1265                    98.0                408          6.0   \n",
       "467   1268                   103.0                412          6.0   \n",
       "468   1269                   100.0                410          3.0   \n",
       "470   1271                   100.0                410          5.0   \n",
       "488   1289                   107.0                417          3.0   \n",
       "500   1301                    95.0                405          4.0   \n",
       "523   1324                    98.0                407          5.0   \n",
       "529   1330                   108.0                418          7.0   \n",
       "646   1447                   111.0                421          3.0   \n",
       "652   1453                   107.0                417          3.0   \n",
       "653   1454                   105.0                415          3.0   \n",
       "673   1474                    98.0                408          3.0   \n",
       "733   1534                   108.0                418          3.0   \n",
       "791   1592                    98.0                407          4.0   \n",
       "839   1640                   103.0                412          3.0   \n",
       "860   1661                    93.0                403          7.0   \n",
       "1045  1846                    98.0                408          4.0   \n",
       "1062  1863                   118.0                428          4.0   \n",
       "\n",
       "      data_type_code              reference_name    date_dt  \n",
       "90               4.0                NIHONKIRYAKU 1900-04-19  \n",
       "94               4.0                NIHONKIRYAKU 1900-04-14  \n",
       "95               4.0     NIPPON-SANDAI-JITSUROKU 1900-04-13  \n",
       "122              4.0          ZOKU-KOKIN-WAKASHU 1900-04-14  \n",
       "154              4.0                     SHUISHO 1900-03-30  \n",
       "168              4.0                NIHONKIRYAKU 1900-04-08  \n",
       "206              4.0              MIDO-KAMPAKUKI 1900-04-16  \n",
       "232              4.0                NIHONKIRYAKU 1900-04-12  \n",
       "235              4.0                NIHONKIRYAKU 1900-04-13  \n",
       "259              4.0         SHIN-SENZAI-WAKASHU 1900-04-17  \n",
       "260              4.0                MOROZANE-SHU 1900-04-02  \n",
       "283              4.0          ZOKU-GOSEN-WAKASHU 1900-04-29  \n",
       "294              4.0                     CHUYUKI 1900-04-10  \n",
       "381              4.0  TSUKIMOUDE-WAKASHU(PART-3) 1900-04-14  \n",
       "389              4.0                SHUGYOKU-SHU 1900-04-22  \n",
       "400              4.0           INOKUMA-KAMPAKUKI 1900-04-06  \n",
       "415              4.0            JUNTOKUIN-GYOSHU 1900-04-10  \n",
       "418              4.0            JUNTOKUIN-GYOSHU 1900-04-11  \n",
       "420              4.0                   SHUI-GUSO 1900-04-09  \n",
       "422              4.0              MITSUTSUNE-SHU 1900-04-26  \n",
       "435              4.0              SHIIBA-WAKASHU 1900-03-27  \n",
       "464              4.0                  TAMEIE-SHU 1900-04-08  \n",
       "467              4.0                  TAMEIE-SHU 1900-04-12  \n",
       "468              4.0               ZOKU-SHIGUSHO 1900-04-10  \n",
       "470              4.0         DAINAGON-TAMEIE-SHU 1900-04-10  \n",
       "488              4.0         NAKANOTSUKASA-NIKKI 1900-04-17  \n",
       "500              4.0                SANEMI-KYOKI 1900-04-05  \n",
       "523              4.0        HANAZONOTENNO-SHINKI 1900-04-07  \n",
       "529              4.0               RINEI-WAKASHU 1900-04-18  \n",
       "646              4.0                    SOKONSHU 1900-04-21  \n",
       "652              4.0                    SOKONSHU 1900-04-17  \n",
       "653              4.0                    SOKONSHU 1900-04-15  \n",
       "673              4.0              ENROKUCHOKASHU 1900-04-08  \n",
       "733              4.0      GONARAIN-GYOSEI-BASSHO 1900-04-18  \n",
       "791              4.0             TOKITSUNE-KYOKI 1900-04-07  \n",
       "839              4.0                  KYOHAKUSHU 1900-04-12  \n",
       "860              4.0         BURUI-GENYO-WAKASHU 1900-04-03  \n",
       "1045             4.0                  TEIEN-EISO 1900-04-08  \n",
       "1062             4.0                  YATAKA-SHU 1900-04-28  "
      ]
     },
     "execution_count": 23,
     "metadata": {},
     "output_type": "execute_result"
    }
   ],
   "source": [
    "df.query(\"data_type_code==4\")"
   ]
  },
  {
   "cell_type": "markdown",
   "metadata": {},
   "source": [
    "## 14. Graph the full-flowering date (DOY) over time"
   ]
  },
  {
   "cell_type": "code",
   "execution_count": 24,
   "metadata": {},
   "outputs": [
    {
     "data": {
      "text/plain": [
       "<AxesSubplot:title={'center':'Full-Flowering Date(DOY)'}, xlabel='ad'>"
      ]
     },
     "execution_count": 24,
     "metadata": {},
     "output_type": "execute_result"
    },
    {
     "data": {
      "image/png": "[encoded data removed]",
      "text/plain": [
       "<Figure size 432x288 with 1 Axes>"
      ]
     },
     "metadata": {
      "needs_background": "light"
     },
     "output_type": "display_data"
    }
   ],
   "source": [
    "df.plot(x='ad', y=\"fullflowering_date_doy\", title=\"Full-Flowering Date(DOY)\")"
   ]
  },
  {
   "cell_type": "markdown",
   "metadata": {},
   "source": [
    "## 15. Smooth out the graph\n",
    "\n",
    "It's so jagged! You can use `df.rolling` to calculate a rolling average.\n",
    "\n",
    "The following code calculates a **10-year mean**, using the `AD` column as the anchor. If there aren't 20 samples to work with in a row, it'll accept down to 5. Neat, right?\n",
    "\n",
    "(We're only looking at the final 5)"
   ]
  },
  {
   "cell_type": "code",
   "execution_count": 25,
   "metadata": {},
   "outputs": [
    {
     "data": {
      "text/plain": [
       "1210    95.9\n",
       "1211    96.9\n",
       "1212    96.4\n",
       "1213    96.6\n",
       "1214    96.0\n",
       "Name: fullflowering_date_doy, dtype: float64"
      ]
     },
     "execution_count": 25,
     "metadata": {},
     "output_type": "execute_result"
    }
   ],
   "source": [
    "df.rolling(10, on='ad', min_periods=5).fullflowering_date_doy.mean().tail()"
   ]
  },
  {
   "cell_type": "markdown",
   "metadata": {},
   "source": [
    "Use the code above to create a new column called `rolling_date` in our dataset. It should be the 20-year rolling average of the flowering date. Then plot it, with the year on the x axis and the day of the year on the y axis.\n",
    "\n",
    "Try adding `ylim=(80, 120)` to your `.plot` command to make things look a little less dire."
   ]
  },
  {
   "cell_type": "code",
   "execution_count": 26,
   "metadata": {},
   "outputs": [],
   "source": [
    "df['rolling_date'] = df.rolling(20, on='ad', min_periods=5\n",
    "                               ).fullflowering_date_doy.mean()"
   ]
  },
  {
   "cell_type": "code",
   "execution_count": 27,
   "metadata": {},
   "outputs": [
    {
     "data": {
      "image/png": "[encoded data removed]",
      "text/plain": [
       "<Figure size 432x288 with 1 Axes>"
      ]
     },
     "metadata": {
      "needs_background": "light"
     },
     "output_type": "display_data"
    }
   ],
   "source": [
    "df.plot(\n",
    "    x='ad', \n",
    "    y='rolling_date', \n",
    "    ylim=(80,120), \n",
    "    title='Full-Flowering Date (20-year-rolling-average)'\n",
    ")\n",
    "plt.show()"
   ]
  },
  {
   "cell_type": "markdown",
   "metadata": {},
   "source": [
    "## 16. Add a month column\n",
    "\n",
    "Right now the \"Full-flowering date\" column is pretty rough. It uses numbers like '402' to mean \"April 2nd\" and \"416\" to mean \"April 16th.\" Let's make a column to explain what month it happened in.\n",
    "\n",
    "* Every row that happened in April should have 'April' in the `month` column.\n",
    "* Every row that happened in March should have 'March' as the `month` column.\n",
    "* Every row that happened in May should have 'May' as the `month` column.\n",
    "\n",
    "There are **at least two ways to do this.**\n",
    "\n",
    "#### WAY ONE: The bad-yet-simple way\n",
    "\n",
    "If you don't want to use `pd.to_datetime`, you can use this as an sample for updating March. It finds everything with a date less than 400 and assigns `March` to the `month` column:\n",
    "\n",
    "```python\n",
    "df.loc[df['Full-flowering date'] < 400, 'month'] = 'March'\n",
    "```\n",
    "\n",
    "#### WAY TWO: The good-yet-complicated way\n",
    "\n",
    "* When you use `pd.to_datetime`, if pandas doesn't figure it out automatically you can also pass a `format=` argument that explains what the format is of the datetime. You use [the codes here](https://strftime.org/) to mark out where the days, months, etc are. For example, `2020-04-09` would be converted using `pd.to_datetime(df.colname, \"format='%Y-%m-%d\")`.\n",
    "* `errors='coerce'` will return `NaN` for missing values. By default it just yells \"I don't know what to do!!!\"\n",
    "* And remember how we used `df.date_column.dt.month` to get the number of the month? For the name, you use `dt.strftime` (string-formatted-time), and pass it [the same codes](https://strftime.org/) to tell it what to do. For example, `df.date_column.dt.strftime(\"%Y-%m-%d\")` would give you `\"2020-04-09\"`."
   ]
  },
  {
   "cell_type": "code",
   "execution_count": 28,
   "metadata": {},
   "outputs": [],
   "source": [
    "df['month'] =pd.to_datetime(df.fullflowering_date, format=\"%m%d\", errors=\"coerce\").dt.strftime('%B')"
   ]
  },
  {
   "cell_type": "markdown",
   "metadata": {},
   "source": [
    "## 17. Using your new column, how many blossomings happened in each month?"
   ]
  },
  {
   "cell_type": "code",
   "execution_count": 29,
   "metadata": {},
   "outputs": [],
   "source": [
    "#sort order\n",
    "months = ['March', 'April', 'May']"
   ]
  },
  {
   "cell_type": "code",
   "execution_count": 30,
   "metadata": {},
   "outputs": [
    {
     "data": {
      "text/plain": [
       "March     10\n",
       "April    814\n",
       "May        3\n",
       "Name: month, dtype: int64"
      ]
     },
     "execution_count": 30,
     "metadata": {},
     "output_type": "execute_result"
    }
   ],
   "source": [
    "df.month.value_counts()[months]"
   ]
  },
  {
   "cell_type": "markdown",
   "metadata": {},
   "source": [
    "## 18. Make a bar graph of how many blossomings happened in each month."
   ]
  },
  {
   "cell_type": "code",
   "execution_count": 31,
   "metadata": {},
   "outputs": [
    {
     "data": {
      "text/plain": [
       "<AxesSubplot:>"
      ]
     },
     "execution_count": 31,
     "metadata": {},
     "output_type": "execute_result"
    },
    {
     "data": {
      "image/png": "[encoded data removed]",
      "text/plain": [
       "<Figure size 432x288 with 1 Axes>"
      ]
     },
     "metadata": {
      "needs_background": "light"
     },
     "output_type": "display_data"
    }
   ],
   "source": [
    "df.month.value_counts()[months].plot(kind='bar')"
   ]
  },
  {
   "cell_type": "markdown",
   "metadata": {},
   "source": [
    "## 19. Adding a day-of-month column\n",
    "\n",
    "Now we're going to add a new column called `day_of_month.`\n",
    "\n",
    "*Tip: If you didn't drop the rows missing full-flowering dates earlier, it will yell at you about missing data. Go back up and fix Number 6!*"
   ]
  },
  {
   "cell_type": "code",
   "execution_count": 32,
   "metadata": {},
   "outputs": [],
   "source": [
    "df['day_of_month'] = pd.to_datetime(df.fullflowering_date, format=\"%m%d\", errors=\"coerce\").dt.strftime('%d').astype(int)"
   ]
  },
  {
   "cell_type": "markdown",
   "metadata": {},
   "source": [
    "## 20. Adding a date column\n",
    "\n",
    "If you don't have a nice-looking date column yet, take the `'month'` and `'day_of_month'` columns and combine them in order to create a new column called `'date'`. By \"nice looking,\" I mean it should say something like `April 11`.\n",
    "\n",
    "* Instead of using the two existing columns, you could learn to use `.dt.strftime` as mentioned above."
   ]
  },
  {
   "cell_type": "code",
   "execution_count": 33,
   "metadata": {},
   "outputs": [],
   "source": [
    "df['date'] = pd.to_datetime(df.fullflowering_date, format=\"%m%d\", errors=\"coerce\").dt.strftime('%B %d')"
   ]
  },
  {
   "cell_type": "code",
   "execution_count": 34,
   "metadata": {},
   "outputs": [
    {
     "data": {
      "text/plain": [
       "1181    April 03\n",
       "477     April 23\n",
       "1039    April 14\n",
       "840     April 27\n",
       "621     April 19\n",
       "1115    April 21\n",
       "930     April 14\n",
       "491     April 16\n",
       "841     April 24\n",
       "749     April 21\n",
       "Name: date, dtype: object"
      ]
     },
     "execution_count": 34,
     "metadata": {},
     "output_type": "execute_result"
    }
   ],
   "source": [
    "df.date.sample(10)"
   ]
  },
  {
   "cell_type": "markdown",
   "metadata": {},
   "source": [
    "## 21. What day of the week do cherry blossoms like to blossom on?\n",
    "\n",
    "Do they get the weekends off?"
   ]
  },
  {
   "cell_type": "code",
   "execution_count": 35,
   "metadata": {},
   "outputs": [],
   "source": [
    "#month number\n",
    "df['month_number'] = df.month.apply(lambda x: datetime.strptime(x, '%B').month)"
   ]
  },
  {
   "cell_type": "code",
   "execution_count": 36,
   "metadata": {
    "scrolled": true
   },
   "outputs": [
    {
     "data": {
      "text/html": [
       "<div>\n",
       "<style scoped>\n",
       "    .dataframe tbody tr th:only-of-type {\n",
       "        vertical-align: middle;\n",
       "    }\n",
       "\n",
       "    .dataframe tbody tr th {\n",
       "        vertical-align: top;\n",
       "    }\n",
       "\n",
       "    .dataframe thead th {\n",
       "        text-align: right;\n",
       "    }\n",
       "</style>\n",
       "<table border=\"1\" class=\"dataframe\">\n",
       "  <thead>\n",
       "    <tr style=\"text-align: right;\">\n",
       "      <th></th>\n",
       "      <th>ad</th>\n",
       "      <th>month_number</th>\n",
       "      <th>day_of_month</th>\n",
       "    </tr>\n",
       "  </thead>\n",
       "  <tbody>\n",
       "    <tr>\n",
       "      <th>11</th>\n",
       "      <td>812</td>\n",
       "      <td>4</td>\n",
       "      <td>1</td>\n",
       "    </tr>\n",
       "    <tr>\n",
       "      <th>14</th>\n",
       "      <td>815</td>\n",
       "      <td>4</td>\n",
       "      <td>15</td>\n",
       "    </tr>\n",
       "    <tr>\n",
       "      <th>30</th>\n",
       "      <td>831</td>\n",
       "      <td>4</td>\n",
       "      <td>6</td>\n",
       "    </tr>\n",
       "    <tr>\n",
       "      <th>50</th>\n",
       "      <td>851</td>\n",
       "      <td>4</td>\n",
       "      <td>18</td>\n",
       "    </tr>\n",
       "    <tr>\n",
       "      <th>52</th>\n",
       "      <td>853</td>\n",
       "      <td>4</td>\n",
       "      <td>14</td>\n",
       "    </tr>\n",
       "  </tbody>\n",
       "</table>\n",
       "</div>"
      ],
      "text/plain": [
       "     ad  month_number  day_of_month\n",
       "11  812             4             1\n",
       "14  815             4            15\n",
       "30  831             4             6\n",
       "50  851             4            18\n",
       "52  853             4            14"
      ]
     },
     "execution_count": 36,
     "metadata": {},
     "output_type": "execute_result"
    }
   ],
   "source": [
    "df[['ad','month_number','day_of_month']].head()"
   ]
  },
  {
   "cell_type": "code",
   "execution_count": 37,
   "metadata": {},
   "outputs": [],
   "source": [
    "#not working\n",
    "#because years are too old...?\n",
    "#df['day_of_week'] = pd.to_datetime(df[['ad','month_number','day_of_month']]).dt.strftime('%A')"
   ]
  },
  {
   "cell_type": "code",
   "execution_count": 38,
   "metadata": {},
   "outputs": [],
   "source": [
    "#So I used datetime.date() instead.....\n",
    "#Rodrigo(TA) says this looks ok\n",
    "#but I'm curious what other ways we can do it more pythonic?\n",
    "\n",
    "df['day_of_week'] = df[['ad','month_number','day_of_month']\n",
    "                      ].apply(lambda x: date(x[0], x[1], x[2]\n",
    "                                            ).strftime('%A'), axis=1)"
   ]
  },
  {
   "cell_type": "code",
   "execution_count": 39,
   "metadata": {},
   "outputs": [
    {
     "data": {
      "text/plain": [
       "Sunday       144\n",
       "Thursday     132\n",
       "Friday       121\n",
       "Tuesday      114\n",
       "Wednesday    106\n",
       "Monday       105\n",
       "Saturday     105\n",
       "Name: day_of_week, dtype: int64"
      ]
     },
     "execution_count": 39,
     "metadata": {},
     "output_type": "execute_result"
    }
   ],
   "source": [
    "#Yes! We get to see cherry blossoms on weekends!\n",
    "df.day_of_week.value_counts()"
   ]
  },
  {
   "cell_type": "code",
   "execution_count": 40,
   "metadata": {
    "scrolled": true
   },
   "outputs": [
    {
     "data": {
      "image/png": "[encoded data removed]",
      "text/plain": [
       "<Figure size 432x288 with 1 Axes>"
      ]
     },
     "metadata": {
      "needs_background": "light"
     },
     "output_type": "display_data"
    }
   ],
   "source": [
    "#graph\n",
    "days = ['Monday','Tuesday','Wednesday','Thursday','Friday','Saturday','Sunday']\n",
    "colors = ['skyblue'] * 5 + ['pink'] *2\n",
    "\n",
    "df.day_of_week.value_counts()[days].plot(kind='barh',color=colors).invert_yaxis()"
   ]
  },
  {
   "cell_type": "markdown",
   "metadata": {},
   "source": [
    "# YOU ARE DONE.\n",
    "\n",
    "And **incredible.**"
   ]
  }
 ],
 "metadata": {
  "kernelspec": {
   "display_name": "venv310",
   "language": "python",
   "name": "venv310"
  },
  "language_info": {
   "codemirror_mode": {
    "name": "ipython",
    "version": 3
   },
   "file_extension": ".py",
   "mimetype": "text/x-python",
   "name": "python",
   "nbconvert_exporter": "python",
   "pygments_lexer": "ipython3",
   "version": "3.10.3"
  },
  "toc": {
   "base_numbering": 1,
   "nav_menu": {},
   "number_sections": true,
   "sideBar": true,
   "skip_h1_title": false,
   "title_cell": "Table of Contents",
   "title_sidebar": "Contents",
   "toc_cell": false,
   "toc_position": {},
   "toc_section_display": true,
   "toc_window_display": true
  }
 },
 "nbformat": 4,
 "nbformat_minor": 2
}
